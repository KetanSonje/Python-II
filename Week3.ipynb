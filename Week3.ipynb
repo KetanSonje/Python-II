{
  "nbformat": 4,
  "nbformat_minor": 0,
  "metadata": {
    "colab": {
      "provenance": [],
      "collapsed_sections": [],
      "authorship_tag": "ABX9TyMW2d9S9fHcEp7FnPtiNqpJ",
      "include_colab_link": true
    },
    "kernelspec": {
      "name": "python3",
      "display_name": "Python 3"
    },
    "language_info": {
      "name": "python"
    }
  },
  "cells": [
    {
      "cell_type": "markdown",
      "metadata": {
        "id": "view-in-github",
        "colab_type": "text"
      },
      "source": [
        "<a href=\"https://colab.research.google.com/github/KetanSonje/Python-II/blob/main/Week3.ipynb\" target=\"_parent\"><img src=\"https://colab.research.google.com/assets/colab-badge.svg\" alt=\"Open In Colab\"/></a>"
      ]
    },
    {
      "cell_type": "markdown",
      "source": [
        "#Section A"
      ],
      "metadata": {
        "id": "qiw1jS3HIqAM"
      }
    },
    {
      "cell_type": "code",
      "source": [
        "#1\n",
        "def evendiv(x,y,z):\n",
        "    return(sum(list([i for i in range(x, y+1) if i%z==0])))\n",
        "\n",
        "print(evendiv(1,10,2))"
      ],
      "metadata": {
        "colab": {
          "base_uri": "https://localhost:8080/"
        },
        "id": "4Yy_KRFPIrbU",
        "outputId": "09f4503d-6f44-47f7-e9c4-0762e27f6142"
      },
      "execution_count": 1,
      "outputs": [
        {
          "output_type": "stream",
          "name": "stdout",
          "text": [
            "30\n"
          ]
        }
      ]
    },
    {
      "cell_type": "code",
      "source": [
        "#2\n",
        "def check(s):\n",
        "    x=eval(s)\n",
        "    if x:\n",
        "        return True\n",
        "    else:\n",
        "     return False \n",
        "\n",
        "print(check(\"2 < 7 < 15\"))\n",
        "print(check(\"30 > 45 > 21 > 9\"))\n",
        "print(check(\"4 < 7 < 8< 12 > 2\"))"
      ],
      "metadata": {
        "colab": {
          "base_uri": "https://localhost:8080/"
        },
        "id": "EO19lW4II9di",
        "outputId": "20124cf7-822a-4d40-b794-dc6108f907f0"
      },
      "execution_count": 2,
      "outputs": [
        {
          "output_type": "stream",
          "name": "stdout",
          "text": [
            "True\n",
            "False\n",
            "True\n"
          ]
        }
      ]
    },
    {
      "cell_type": "code",
      "source": [
        "#3\n",
        "print(\"Enter the String: \")\n",
        "str = input()\n",
        "\n",
        "print(\"Enter a character: \")\n",
        "char = input()\n",
        "\n",
        "newstr = \"\"\n",
        "for i in range(len(str)):\n",
        "    if str[i]=='a' or str[i]=='e' or str[i]=='i' or str[i]=='o' or str[i]=='u':\n",
        "        newstr = newstr + char\n",
        "    else:\n",
        "        newstr = newstr + str[i]\n",
        "\n",
        "print(\"\\nOriginal String:\", str)\n",
        "print(\"New String:\", newstr)"
      ],
      "metadata": {
        "colab": {
          "base_uri": "https://localhost:8080/"
        },
        "id": "da0MBK58I-t3",
        "outputId": "3eea5b5a-e968-40c6-ead9-0b4188367784"
      },
      "execution_count": 3,
      "outputs": [
        {
          "output_type": "stream",
          "name": "stdout",
          "text": [
            "Enter the String: \n",
            "ketan\n",
            "Enter a character: \n",
            "a\n",
            "\n",
            "Original String: ketan\n",
            "New String: katan\n"
          ]
        }
      ]
    },
    {
      "cell_type": "code",
      "source": [
        "#4\n",
        "def factorial(n):\n",
        "      \n",
        "    if n == 0:\n",
        "        return 1\n",
        "     \n",
        "    return n * factorial(n-1)\n",
        "  \n",
        "\n",
        "num = 15;\n",
        "print(\"Factorial of\", num, \"is\",\n",
        "factorial(num))"
      ],
      "metadata": {
        "colab": {
          "base_uri": "https://localhost:8080/"
        },
        "id": "U8bKdOyoJLh4",
        "outputId": "cc1cea92-d4b3-4ce4-dddb-43e7c08c0e89"
      },
      "execution_count": 5,
      "outputs": [
        {
          "output_type": "stream",
          "name": "stdout",
          "text": [
            "Factorial of 15 is 1307674368000\n"
          ]
        }
      ]
    },
    {
      "cell_type": "code",
      "source": [
        "#5\n",
        "def hammingDist(str1, str2):\n",
        "    i = 0\n",
        "    count = 0\n",
        " \n",
        "    while(i < len(str1)):\n",
        "        if(str1[i] != str2[i]):\n",
        "            count += 1\n",
        "        i += 1\n",
        "    return count\n",
        " \n",
        "\n",
        "str1 = \"abcde\"\n",
        "str2 = \"cdefg\"\n",
        " \n",
        "\n",
        "print(hammingDist(str1, str2))"
      ],
      "metadata": {
        "colab": {
          "base_uri": "https://localhost:8080/"
        },
        "id": "UDscsfoZJRgI",
        "outputId": "cd1b4095-f0dd-41b7-bb06-cb06caff4ff5"
      },
      "execution_count": 6,
      "outputs": [
        {
          "output_type": "stream",
          "name": "stdout",
          "text": [
            "5\n"
          ]
        }
      ]
    },
    {
      "cell_type": "markdown",
      "source": [
        "#Section B"
      ],
      "metadata": {
        "id": "PN6pGbKqJeFj"
      }
    },
    {
      "cell_type": "code",
      "source": [
        "#1\n",
        "l = [1,2,'a','b']\n",
        "\n",
        "def filter_list(l):\n",
        "    new_list = []\n",
        "    for x in l:\n",
        "        if type(x) == int:\n",
        "            new_list.append(x)\n",
        "    return new_list\n",
        "\n",
        "print(filter_list(l))"
      ],
      "metadata": {
        "colab": {
          "base_uri": "https://localhost:8080/"
        },
        "id": "B2-MJylaJhiz",
        "outputId": "560cf982-9225-4861-9e33-1dd7d75b803a"
      },
      "execution_count": 7,
      "outputs": [
        {
          "output_type": "stream",
          "name": "stdout",
          "text": [
            "[1, 2]\n"
          ]
        }
      ]
    },
    {
      "cell_type": "code",
      "source": [
        "#2\n",
        "def string(str1):\n",
        "\n",
        "    rstr1 = ''\n",
        "    index = len(str1)\n",
        "    while index > 0:\n",
        "        rstr1 += str1[ index - 1 ]\n",
        "        index = index - 1\n",
        "    return rstr1\n",
        "print(string('Ketan').swapcase())"
      ],
      "metadata": {
        "colab": {
          "base_uri": "https://localhost:8080/"
        },
        "id": "1YD9Gf71Jnfg",
        "outputId": "81e8b9de-87c9-4b56-9242-000ac6371904"
      },
      "execution_count": 8,
      "outputs": [
        {
          "output_type": "stream",
          "name": "stdout",
          "text": [
            "NATEk\n"
          ]
        }
      ]
    },
    {
      "cell_type": "code",
      "source": [
        "#3\n",
        "list=[1,6,8,9,5,4,\"ketan\",\"car\",\"class\",69]\n",
        "first=list[0]\n",
        "middle=list[1:-1]\n",
        "last=list[-1]\n",
        "print(\"first =\",first ,\"middle =\",middle,\"last = \",last)"
      ],
      "metadata": {
        "colab": {
          "base_uri": "https://localhost:8080/"
        },
        "id": "uAx2yxeZJwKO",
        "outputId": "41f0dbe3-53c9-403a-da61-9a25bc7aa4a7"
      },
      "execution_count": 10,
      "outputs": [
        {
          "output_type": "stream",
          "name": "stdout",
          "text": [
            "first = 1 middle = [6, 8, 9, 5, 4, 'ketan', 'car', 'class'] last =  69\n"
          ]
        }
      ]
    },
    {
      "cell_type": "code",
      "source": [
        "#4\n",
        "def recur_factorial(n):\n",
        "   if n == 1:\n",
        "       return n\n",
        "   else:\n",
        "       return n*recur_factorial(n-1)\n",
        "\n",
        "num = int(input(\"Enter the number : \"))\n",
        "\n",
        "\n",
        "if num < 0:\n",
        "   print(\"Sorry, factorial does not exist for negative numbers\")\n",
        "elif num == 0:\n",
        "   print(\"The factorial of 0 is 1\")\n",
        "else:\n",
        "   print(\"The factorial of\", num, \"is\", recur_factorial(num))"
      ],
      "metadata": {
        "colab": {
          "base_uri": "https://localhost:8080/"
        },
        "id": "TCE9ktObJ87i",
        "outputId": "f3dc8eb6-86ab-40b9-8d23-c126a9941fdb"
      },
      "execution_count": 11,
      "outputs": [
        {
          "output_type": "stream",
          "name": "stdout",
          "text": [
            "Enter the number : 8\n",
            "The factorial of 8 is 40320\n"
          ]
        }
      ]
    },
    {
      "cell_type": "code",
      "source": [
        "#5\n",
        "def move_to_end(lst,el):\n",
        "    lst.append(lst.pop(lst.index(el)))\n",
        "    return lst\n",
        "\n",
        "print(move_to_end([1, 3, 2, 4, 4, 1], 1))\n",
        "print(move_to_end([7, 8, 9, 1, 2, 3, 4], 9))\n",
        "print(move_to_end([\"a\",\"a\",\"a\",\"b\"], \"a\"))"
      ],
      "metadata": {
        "colab": {
          "base_uri": "https://localhost:8080/"
        },
        "id": "fRTpSDUiKF6D",
        "outputId": "d51fbb7c-4771-4360-d5e5-a4ee15761322"
      },
      "execution_count": 12,
      "outputs": [
        {
          "output_type": "stream",
          "name": "stdout",
          "text": [
            "[3, 2, 4, 4, 1, 1]\n",
            "[7, 8, 1, 2, 3, 4, 9]\n",
            "['a', 'a', 'b', 'a']\n"
          ]
        }
      ]
    },
    {
      "cell_type": "markdown",
      "source": [
        "#Section C"
      ],
      "metadata": {
        "id": "fCctJlTXKRkZ"
      }
    },
    {
      "cell_type": "code",
      "source": [
        "#1\n",
        "def multichar(text, n):\n",
        "    return ''.join([x * n for x in text])\n",
        "multichar(\"Ketan\",2)"
      ],
      "metadata": {
        "colab": {
          "base_uri": "https://localhost:8080/",
          "height": 35
        },
        "id": "Q_0sfFq1KaH_",
        "outputId": "993f51ec-98b0-4994-8a0f-d2d1eafa1535"
      },
      "execution_count": 13,
      "outputs": [
        {
          "output_type": "execute_result",
          "data": {
            "text/plain": [
              "'KKeettaann'"
            ],
            "application/vnd.google.colaboratory.intrinsic+json": {
              "type": "string"
            }
          },
          "metadata": {},
          "execution_count": 13
        }
      ]
    },
    {
      "cell_type": "code",
      "source": [
        "#2\n",
        "def reverse(arg):\n",
        "\tif isinstance(arg, bool):\n",
        "\t\treturn not arg\n",
        "\telse:\n",
        "\t\treturn('boolean expected')\n",
        "\n",
        "def reverse(arg=None):\n",
        "\treturn not arg if type(arg) == bool else \"boolean expected\"\n",
        "\n",
        "print(reverse(True)) \n",
        "print(reverse(False)) \n",
        "print(reverse(0)) \n",
        "print(reverse(None))"
      ],
      "metadata": {
        "colab": {
          "base_uri": "https://localhost:8080/"
        },
        "id": "Kz3A86r0K6ot",
        "outputId": "036de2ad-425a-4c05-9f0d-d6b3cd1bee4b"
      },
      "execution_count": 14,
      "outputs": [
        {
          "output_type": "stream",
          "name": "stdout",
          "text": [
            "False\n",
            "True\n",
            "boolean expected\n",
            "boolean expected\n"
          ]
        }
      ]
    },
    {
      "cell_type": "code",
      "source": [
        "#3\n",
        "def fn(a):\n",
        "    res = 0.5\n",
        "    for i in range(a):\n",
        "        res *= 2\n",
        "    \n",
        "    return res / 1000 \n",
        "fn(1)"
      ],
      "metadata": {
        "colab": {
          "base_uri": "https://localhost:8080/"
        },
        "id": "hbmdq2kRLBUQ",
        "outputId": "c3a3e15a-70d2-40be-ccca-92d7c2f14279"
      },
      "execution_count": 15,
      "outputs": [
        {
          "output_type": "execute_result",
          "data": {
            "text/plain": [
              "0.001"
            ]
          },
          "metadata": {},
          "execution_count": 15
        }
      ]
    },
    {
      "cell_type": "code",
      "source": [
        "#4\n",
        "test_str = 'KetanSonje'\n",
        " \n",
        "\n",
        "print(\"The original string is : \" + str(test_str))\n",
        " \n",
        "\n",
        "res = [idx for idx in range(len(test_str)) if test_str[idx].isupper()]\n",
        " \n",
        "\n",
        "print(\"Uppercase elements indices : \" + str(res))"
      ],
      "metadata": {
        "id": "EZgoNSyHLUno"
      },
      "execution_count": 19,
      "outputs": []
    },
    {
      "cell_type": "code",
      "source": [
        "#5\n",
        "\n",
        "listl=[i for i in range (4) if(i%2==0)]\n",
        "\n",
        "print(listl)"
      ],
      "metadata": {
        "colab": {
          "base_uri": "https://localhost:8080/"
        },
        "id": "utfDaZWUMJsj",
        "outputId": "e404fb10-b6a8-439b-93b1-db1f62901c16"
      },
      "execution_count": 20,
      "outputs": [
        {
          "output_type": "stream",
          "name": "stdout",
          "text": [
            "[0, 2]\n"
          ]
        }
      ]
    },
    {
      "cell_type": "markdown",
      "source": [
        "#Section D"
      ],
      "metadata": {
        "id": "VskW-t7wMQnx"
      }
    },
    {
      "cell_type": "code",
      "source": [
        "#1\n",
        "l = [6,9,4,'ketan','sonje']\n",
        "output = [x for x in l if type(x) != str]\n",
        "print(output)"
      ],
      "metadata": {
        "colab": {
          "base_uri": "https://localhost:8080/"
        },
        "id": "ytvrvgPTMTmD",
        "outputId": "382339a9-01e6-45f4-95ec-77f52cb43bd8"
      },
      "execution_count": 21,
      "outputs": [
        {
          "output_type": "stream",
          "name": "stdout",
          "text": [
            "[6, 9, 4, 'ketan', 'sonje']\n"
          ]
        }
      ]
    },
    {
      "cell_type": "code",
      "source": [
        "#3\n",
        "import math\n",
        "pi = math.pi\n",
        "def volume(r, h):\n",
        "    return (1 / 3) * pi * r * r * h\n",
        "def surfacearea(r, s):\n",
        "    return pi * r * s + pi * r * r\n",
        "radius = float(2)\n",
        "height = float(3)\n",
        "slat_height = float(5)\n",
        "print( \"Volume Of Cone : \", volume(radius, height) )\n",
        "print( \"Surface Area Of Cone : \", surfacearea(radius, slat_height) )"
      ],
      "metadata": {
        "colab": {
          "base_uri": "https://localhost:8080/"
        },
        "id": "6x7Fy1GdMmoT",
        "outputId": "888dab97-c127-4f3a-bbdc-e23688332665"
      },
      "execution_count": 22,
      "outputs": [
        {
          "output_type": "stream",
          "name": "stdout",
          "text": [
            "Volume Of Cone :  12.566370614359172\n",
            "Surface Area Of Cone :  43.982297150257104\n"
          ]
        }
      ]
    },
    {
      "cell_type": "code",
      "source": [
        "#5\n",
        "def missing_num(lst):\n",
        "\n",
        "   for n in range(1,11):\n",
        "\n",
        "       if n not in lst:\n",
        "\n",
        "           print(n)\n",
        "\n",
        "lst = (1,3,4,5,6,7,8,9,10)\n",
        "\n",
        "missing_num(lst)"
      ],
      "metadata": {
        "colab": {
          "base_uri": "https://localhost:8080/"
        },
        "id": "rO-cWZ2eMpFc",
        "outputId": "fe143ef0-3377-45a1-8861-89f0a3a8b873"
      },
      "execution_count": 23,
      "outputs": [
        {
          "output_type": "stream",
          "name": "stdout",
          "text": [
            "2\n"
          ]
        }
      ]
    }
  ]
}